{
 "cells": [
  {
   "cell_type": "markdown",
   "metadata": {
    "id": "P6xk2_jLsvFF"
   },
   "source": [
    "# [作業目標]\n",
    "\n",
    "1. [簡答題] 請問 type(...) 跟 a.dtype 這兩個語法有什麼不同？\n",
    "\n",
    "```\n",
    "print('type(a): ', type(a))\n",
    "print('a.dtype: ', a.dtype)\n",
    "```\n",
    "\n",
    "2. 請撰寫一個判斷 a 的元素是否等於指定資料型態的函式\n",
    "\n",
    "3. [簡答題] 承上題，請判斷下列三種寫法為何不正確？\n",
    "\n",
    "```\n",
    "def is_dtype(a, t):\n",
    "    return a.dtype is t\n",
    "\n",
    "def is_dtype(a, t):\n",
    "    return type(a) == np.dtype(t)\n",
    "\n",
    "def is_dtype(a, t):\n",
    "    return type(a) is np.dtype(t)\n",
    "```"
   ]
  },
  {
   "cell_type": "markdown",
   "metadata": {
    "id": "uXGll28asvFS"
   },
   "source": [
    "# 作業 "
   ]
  },
  {
   "cell_type": "markdown",
   "metadata": {
    "id": "qmOwRRtHNgfI"
   },
   "source": [
    "### 1. [簡答題] 請問 type(...) 跟 a.dtype 這兩個語法有什麼不同？\n",
    "\n",
    "```\n",
    "print('type(a): ', type(a))\n",
    "print('a.dtype: ', a.dtype)\n",
    "```\n"
   ]
  },
  {
   "cell_type": "markdown",
   "metadata": {
    "id": "5QrYoyNWsvFS",
    "outputId": "8977bda1-0e79-4faa-8370-76a2b0767482"
   },
   "source": [
    "dtype是陣列中的資料型態，type是資料的型態"
   ]
  },
  {
   "cell_type": "markdown",
   "metadata": {
    "id": "hgsGyqXHNgfK"
   },
   "source": [
    "### 2. 請撰寫一個判斷 a 的元素是否等於指定資料型態的函式，並且通過測試。\n",
    "\n"
   ]
  },
  {
   "cell_type": "code",
   "execution_count": 1,
   "metadata": {
    "id": "e1gVI0tvsvFY"
   },
   "outputs": [],
   "source": [
    "# 記得先 Import 正確的套件\n",
    "import numpy as np"
   ]
  },
  {
   "cell_type": "code",
   "execution_count": 2,
   "metadata": {
    "id": "ew2BtKF2NgfL"
   },
   "outputs": [],
   "source": [
    "def is_dtype(a, t):\n",
    "    return a.dtype == np.dtype(t)"
   ]
  },
  {
   "cell_type": "code",
   "execution_count": 3,
   "metadata": {
    "id": "sGs__HXnNgfL",
    "outputId": "6230ab6b-ea54-4102-ebae-5202b9f4826d"
   },
   "outputs": [
    {
     "name": "stdout",
     "output_type": "stream",
     "text": [
      "True\n",
      "True\n",
      "True\n"
     ]
    }
   ],
   "source": [
    "a = np.random.randint(10, size=6) \n",
    "\n",
    "# 測試一\n",
    "print(is_dtype(a, 'int')) # True\n",
    "\n",
    "# 測試二\n",
    "print(is_dtype(a, np.int)) # True\n",
    "\n",
    "# 測試三\n",
    "print(is_dtype(a, np.dtype('int'))) # True"
   ]
  },
  {
   "cell_type": "markdown",
   "metadata": {
    "id": "iM6o3Ra1NgfM"
   },
   "source": [
    "### 3. [簡答題] 承上題，請判斷下列三種寫法為何不正確？\n",
    "\n",
    "```\n",
    "def is_dtype(a, t):\n",
    "    return a.dtype is t\n",
    "\n",
    "def is_dtype(a, t):\n",
    "    return type(a) == np.dtype(t)\n",
    "\n",
    "def is_dtype(a, t):\n",
    "    return type(a) is np.dtype(t)\n",
    "```"
   ]
  },
  {
   "cell_type": "markdown",
   "metadata": {
    "id": "INXaaXTuNgfM"
   },
   "source": [
    "```\n",
    "def is_dtype(a, t):\n",
    "    return a.dtype is t\n",
    "```\n",
    "這個是錯的，python不會把t當成一個資料型態"
   ]
  },
  {
   "cell_type": "markdown",
   "metadata": {
    "id": "WH1UuVJCNgfN"
   },
   "source": [
    "# 進階題"
   ]
  },
  {
   "cell_type": "code",
   "execution_count": 4,
   "metadata": {
    "id": "XOPQVru2NgfN"
   },
   "outputs": [
    {
     "data": {
      "text/plain": [
       "array([[ 0,  5, 10, 15, 20, 25],\n",
       "       [ 1,  6, 11, 16, 21, 26],\n",
       "       [ 2,  7, 12, 17, 22, 27],\n",
       "       [ 3,  8, 13, 18, 23, 28],\n",
       "       [ 4,  9, 14, 19, 24, 29]])"
      ]
     },
     "execution_count": 4,
     "metadata": {},
     "output_type": "execute_result"
    }
   ],
   "source": [
    "#array1 = np.array(range(30))\n",
    "#1.將上列陣列(array1)，轉成維度為(5X6)的 array，順序按列填充。(hint:order=\"F\")\n",
    "array1 = np.array(range(30))\n",
    "a2=array1.reshape((5,6),order=\"F\")\n",
    "a2"
   ]
  },
  {
   "cell_type": "code",
   "execution_count": 5,
   "metadata": {},
   "outputs": [
    {
     "data": {
      "text/plain": [
       "(array([0, 1, 2, 3, 4], dtype=int64), array([5, 0, 1, 2, 3], dtype=int64))"
      ]
     },
     "execution_count": 5,
     "metadata": {},
     "output_type": "execute_result"
    }
   ],
   "source": [
    "#2.呈上題的 array，找出被 6 除餘 1 的數的索引\n",
    "np.where(a2 % 6 == 1)\n",
    "#array([0, 1, 2, 3, 4]印出來的是每一列\n",
    "#array([5, 0, 1, 2, 3]印出來的是每一列所對應到的欄"
   ]
  },
  {
   "cell_type": "code",
   "execution_count": null,
   "metadata": {},
   "outputs": [],
   "source": []
  }
 ],
 "metadata": {
  "colab": {
   "name": "02 Homework.ipynb",
   "provenance": []
  },
  "kernelspec": {
   "display_name": "Python 3",
   "language": "python",
   "name": "python3"
  },
  "language_info": {
   "codemirror_mode": {
    "name": "ipython",
    "version": 3
   },
   "file_extension": ".py",
   "mimetype": "text/x-python",
   "name": "python",
   "nbconvert_exporter": "python",
   "pygments_lexer": "ipython3",
   "version": "3.8.3"
  }
 },
 "nbformat": 4,
 "nbformat_minor": 1
}
